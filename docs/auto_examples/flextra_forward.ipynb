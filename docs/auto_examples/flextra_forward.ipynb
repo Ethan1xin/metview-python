{
  "cells": [
    {
      "cell_type": "code",
      "execution_count": null,
      "metadata": {
        "collapsed": false
      },
      "outputs": [],
      "source": [
        "%matplotlib inline"
      ]
    },
    {
      "cell_type": "markdown",
      "metadata": {},
      "source": [
        "\nFLEXTRA Forward Trajectories\n===============================\n"
      ]
    },
    {
      "cell_type": "code",
      "execution_count": null,
      "metadata": {
        "collapsed": false
      },
      "outputs": [],
      "source": [
        "# (C) Copyright 2017- ECMWF.\n#\n# This software is licensed under the terms of the Apache Licence Version 2.0\n# which can be obtained at http://www.apache.org/licenses/LICENSE-2.0.\n#\n# In applying this licence, ECMWF does not waive the privileges and immunities\n# granted to it by virtue of its status as an intergovernmental organisation\n# nor does it submit to any jurisdiction.\n#\n\n\nimport metview as mv\n\n# read file containing the results of a FLEXTRA\n# forward simulation with 5 trajectories started at the\n# same location and height at different times\n# (i.e. a FLEXTRA simulation with mode=\"normal\")\nf = mv.read(\"flextra_res_normal.txt\")\n\n# define visualiser\nvis = mv.flextra_visualiser(flextra_data=f)\n\n# define coastlines\ncoast = mv.mcoast(\n    map_coastline_resolution=\"medium\",\n    map_coastline_land_shade=\"on\",\n    map_coastline_land_shade_colour=\"RGB(0.5569,0.5569,0.5569)\",\n    map_coastline_sea_shade=\"on\",\n    map_coastline_sea_shade_colour=\"RGB(0.8,0.8,0.8)\",\n    map_boundaries=\"on\",\n    map_boundaries_colour=\"burgundy\",\n)\n\n# define view\nview = mv.geoview(\n    map_projection=\"polar_stereographic\",\n    map_area_definition=\"corners\",\n    area=[31.81, -20.24, 52.57, 63.93],\n    coastlines=coast,\n)\n\n# define symbol plotting\nsym = mv.msymb(\n    legend=\"on\",\n    symbol_type=\"marker\",\n    symbol_table_mode=\"advanced\",\n    symbol_connect_line=\"on\",\n    symbol_advanced_table_selection_type=\"interval\",\n    symbol_advanced_table_min_value=1,\n    symbol_advanced_table_max_value=6,\n    symbol_advanced_table_interval=1,\n    symbol_advanced_table_max_level_colour=\"blue\",\n    symbol_advanced_table_min_level_colour=\"magenta\",\n    symbol_advanced_table_colour_direction=\"clockwise\",\n    symbol_advanced_table_marker_list=[15, 16, 17, 18, 19],\n    symbol_advanced_table_height_list=0.5,\n)\n\n# define title\ntitle = mv.mtext(text_font_size=0.6)\n\n# define legend\nlegend = mv.mlegend(legend_display_type=\"disjoint\", legend_text_font_size=0.35)\n\n# define output\nmv.setoutput(mv.pdf_output(output_name=\"flextra_forward\"))\n\n# generate plot\nmv.plot(view, legend, vis, sym, title)"
      ]
    }
  ],
  "metadata": {
    "kernelspec": {
      "display_name": "Python 3",
      "language": "python",
      "name": "python3"
    },
    "language_info": {
      "codemirror_mode": {
        "name": "ipython",
        "version": 3
      },
      "file_extension": ".py",
      "mimetype": "text/x-python",
      "name": "python",
      "nbconvert_exporter": "python",
      "pygments_lexer": "ipython3",
      "version": "3.8.5"
    }
  },
  "nbformat": 4,
  "nbformat_minor": 0
}