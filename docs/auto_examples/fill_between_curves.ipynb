{
  "cells": [
    {
      "cell_type": "code",
      "execution_count": null,
      "metadata": {
        "collapsed": false
      },
      "outputs": [],
      "source": [
        "%matplotlib inline"
      ]
    },
    {
      "cell_type": "markdown",
      "metadata": {},
      "source": [
        "\nFill the area between two curves\n====================================\n"
      ]
    },
    {
      "cell_type": "code",
      "execution_count": null,
      "metadata": {
        "collapsed": false
      },
      "outputs": [],
      "source": [
        "# (C) Copyright 2017- ECMWF.\n#\n# This software is licensed under the terms of the Apache Licence Version 2.0\n# which can be obtained at http://www.apache.org/licenses/LICENSE-2.0.\n#\n# In applying this licence, ECMWF does not waive the privileges and immunities\n# granted to it by virtue of its status as an intergovernmental organisation\n# nor does it submit to any jurisdiction.\n#\n\n\nimport metview as mv\nimport numpy as np\n\n# define the curves to be plotted\nx = np.arange(-2, 0.6, 0.1)\ny = np.exp(x)\ny1 = y * 0.7\ny2 = y * 1.3\n\n# define area bounded by two curves (y1 and y2)\nvis_area = mv.input_visualiser(\n    input_plot_type=\"xy_area\",\n    input_x_values=x,\n    input_y_values=y1,\n    input_x2_values=x,\n    input_y2_values=y2,\n)\n\n# define area style\ngr_area = mv.mgraph(\n    legend=\"on\",\n    graph_type=\"area\",\n    graph_line_colour=\"lavender\",\n    graph_shade_colour=\"RGB(0.6888,0.6888,0.8641)\",\n)\n\n# define curve\nvis_curve = mv.input_visualiser(input_x_values=x, input_y_values=y)\n\n# define curve style\ngr_curve = mv.mgraph(\n    legend=\"on\", graph_type=\"curve\", graph_line_colour=\"coral\", graph_line_thickness=3\n)\n\n# define view\nview = mv.cartesianview(x_automatic=\"on\", y_min=0, y_max=1.5, subpage_clipping=\"on\")\n\n# define legend\nlegend = mv.mlegend(\n    legend_display_type=\"disjoint\",\n    legend_text_font_size=0.4,\n    legend_text_composition=\"user_text_only\",\n    legend_user_lines=[\"Area\", \"Curve\"],\n)\n\n# define the output plot file\nmv.setoutput(mv.pdf_output(output_name=\"fill_between_curves\"))\n\n# generate plot\nmv.plot(view, vis_area, gr_area, vis_curve, gr_curve, legend)"
      ]
    }
  ],
  "metadata": {
    "kernelspec": {
      "display_name": "Python 3",
      "language": "python",
      "name": "python3"
    },
    "language_info": {
      "codemirror_mode": {
        "name": "ipython",
        "version": 3
      },
      "file_extension": ".py",
      "mimetype": "text/x-python",
      "name": "python",
      "nbconvert_exporter": "python",
      "pygments_lexer": "ipython3",
      "version": "3.8.5"
    }
  },
  "nbformat": 4,
  "nbformat_minor": 0
}