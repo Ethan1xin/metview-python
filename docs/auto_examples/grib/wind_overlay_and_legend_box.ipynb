{
  "cells": [
    {
      "cell_type": "code",
      "execution_count": null,
      "metadata": {
        "collapsed": false
      },
      "outputs": [],
      "source": [
        "%matplotlib inline"
      ]
    },
    {
      "cell_type": "markdown",
      "metadata": {},
      "source": [
        "\n# GRIB - Wind Field Overlay and Legend Box\n"
      ]
    },
    {
      "cell_type": "code",
      "execution_count": null,
      "metadata": {
        "collapsed": false
      },
      "outputs": [],
      "source": [
        "# (C) Copyright 2017- ECMWF.\n#\n# This software is licensed under the terms of the Apache Licence Version 2.0\n# which can be obtained at http://www.apache.org/licenses/LICENSE-2.0.\n#\n# In applying this licence, ECMWF does not waive the privileges and immunities\n# granted to it by virtue of its status as an intergovernmental organisation\n# nor does it submit to any jurisdiction.\n#\n\nimport metview as mv\n\n# read grib data\nfilename = \"sandy_pl.grib\"\nif mv.exist(filename):\n    f = mv.read(filename)\nelse:\n    f = mv.download_gallery_data(filename)\n\n# filter wind on tow pressure levels\nf1 = mv.read(data=f, param=[\"u\", \"v\"], levelist=850)\nf2 = mv.read(data=f, param=[\"u\", \"v\"], levelist=250)\n\n# define wind plotting on lower level\nwp_1 = mv.mwind(\n    wind_thinning_factor=1,\n    legend=\"on\",\n    wind_arrow_colour=\"cyan\",\n    wind_arrow_legend_text=\"m/s 850 hPa\",\n)\n\n# define wind plotting on upper level\nwp_2 = mv.mwind(\n    wind_thinning_factor=1,\n    legend=\"on\",\n    wind_arrow_colour=\"RGB(0.9641,0.8222,0.4634)\",\n    wind_arrow_legend_text=\"m/s 250 hPa\",\n)\n\n# define coastlines\ncoast = mv.mcoast(\n    map_coastline_colour=\"RGB(0.794,0.7824,0.7824)\",\n    map_coastline_thickness=2,\n    map_coastline_land_shade=\"on\",\n    map_coastline_land_shade_colour=\"RGB(0.2706,0.2706,0.2706)\",\n    map_coastline_sea_shade=\"on\",\n    map_coastline_sea_shade_colour=\"RGB(0.2118,0.2118,0.2118)\",\n    map_grid_colour=\"RGB(0.8941,0.8941,0.8941)\",\n    map_grid_longitude_increment=10,\n)\n\n# define map view\nview = mv.geoview(\n    map_area_definition=\"corners\", area=[24.8, -84, 40, -63], coastlines=coast\n)\n\n# define legend\nlegend = mv.mlegend(\n    legend_box_mode=\"positional\",\n    legend_text_font_size=0.4,\n    legend_entry_plot_direction=\"column\",\n    legend_box_x_position=25,\n    legend_box_y_position=12,\n    legend_box_x_length=4,\n    legend_box_y_length=2.3,\n    legend_box_blanking=\"on\",\n    legend_border=\"on\",\n    legend_border_colour=\"black\",\n    legend_entry_text_width=5,\n)\n\n# define title\ntitle = mv.mtext(text_font_size=0.35)\n\n# define the output plot file\nmv.setoutput(mv.pdf_output(output_name=\"wind_overlay_and_legend_box\"))\n\n# generate plot\nmv.plot(view, f1, wp_1, f2, wp_2, legend, title)"
      ]
    }
  ],
  "metadata": {
    "kernelspec": {
      "display_name": "Python 3",
      "language": "python",
      "name": "python3"
    },
    "language_info": {
      "codemirror_mode": {
        "name": "ipython",
        "version": 3
      },
      "file_extension": ".py",
      "mimetype": "text/x-python",
      "name": "python",
      "nbconvert_exporter": "python",
      "pygments_lexer": "ipython3",
      "version": "3.8.0"
    }
  },
  "nbformat": 4,
  "nbformat_minor": 0
}