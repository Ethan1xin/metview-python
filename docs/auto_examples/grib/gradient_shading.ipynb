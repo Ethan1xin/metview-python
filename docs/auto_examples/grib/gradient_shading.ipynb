{
  "cells": [
    {
      "cell_type": "code",
      "execution_count": null,
      "metadata": {
        "collapsed": false
      },
      "outputs": [],
      "source": [
        "%matplotlib inline"
      ]
    },
    {
      "cell_type": "markdown",
      "metadata": {},
      "source": [
        "\n# GRIB - Contouring with gradient shading\n"
      ]
    },
    {
      "cell_type": "code",
      "execution_count": null,
      "metadata": {
        "collapsed": false
      },
      "outputs": [],
      "source": [
        "# (C) Copyright 2017- ECMWF.\n#\n# This software is licensed under the terms of the Apache Licence Version 2.0\n# which can be obtained at http://www.apache.org/licenses/LICENSE-2.0.\n#\n# In applying this licence, ECMWF does not waive the privileges and immunities\n# granted to it by virtue of its status as an intergovernmental organisation\n# nor does it submit to any jurisdiction.\n#\n\nimport metview as mv\n\n# get data\nuse_mars = False\nif use_mars:\n    # retrieve data from MARS\n    t = mv.retrieve(\n        class_=\"era5\",\n        stream=\"moda\",\n        levtype=\"sfc\",\n        param=\"2t\",\n        date=20200101,\n        time=0,\n        grid=[1, 1],\n    )\nelse:\n    # read data from GRIB file\n    filename = \"era5_t2_jan.grib\"\n    if mv.exist(filename):\n        t = mv.read(filename)\n    else:\n        t = mv.download_gallery_data(filename)\n\n# define coastlines\ncoast = mv.mcoast(map_grid=\"off\", map_label=\"off\")\n\n# define view\nview = mv.geoview(\n    map_projection=\"robinson\",\n    subpage_y_position=14,\n    subpage_y_length=86,\n    coastlines=coast,\n    page_frame=\"off\",\n    subpage_frame=\"off\",\n)\n\n# define contouring\ncont = mv.mcont(\n    legend=\"on\",\n    contour=\"off\",\n    contour_level_selection_type=\"level_list\",\n    contour_level_list=[-45, -20, 0, 20, 45],\n    contour_label=\"off\",\n    contour_shade=\"on\",\n    contour_shade_colour_method=\"gradients\",\n    contour_shade_method=\"area_fill\",\n    contour_gradients_colour_list=[\n        \"RGB(0.1532,0.1187,0.5323)\",\n        \"RGB(0.5067,0.7512,0.8188)\",\n        \"RGB(0.9312,0.9313,0.9275)\",\n        \"RGB(0.9523,0.7811,0.3104)\",\n        \"RGB(0.594,0.104,0.104)\",\n    ],\n    contour_gradients_step_list=20,\n)\n\n# define legend\nlegend = mv.mlegend(\n    legend_box_mode=\"positional\",\n    legend_text_font_size=0.4,\n    legend_box_y_position=1,\n    legend_box_y_length=1.5,\n    legend_entry_border=\"off\",\n    legend_label_frequency=10,\n)\n\n# define title\ntitle = mv.mtext(\n    text_line_1=\"ERA5 T2 Monthly Mean 2020 January 0UTC\", text_font_size=0.6\n)\n\n# define the output plot file\nmv.setoutput(mv.pdf_output(output_name=\"gradient_shading\"))\n\n# generate plot\nmv.plot(view, t, cont, title, legend)"
      ]
    }
  ],
  "metadata": {
    "kernelspec": {
      "display_name": "Python 3",
      "language": "python",
      "name": "python3"
    },
    "language_info": {
      "codemirror_mode": {
        "name": "ipython",
        "version": 3
      },
      "file_extension": ".py",
      "mimetype": "text/x-python",
      "name": "python",
      "nbconvert_exporter": "python",
      "pygments_lexer": "ipython3",
      "version": "3.8.0"
    }
  },
  "nbformat": 4,
  "nbformat_minor": 0
}