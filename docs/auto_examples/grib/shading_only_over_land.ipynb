{
  "cells": [
    {
      "cell_type": "code",
      "execution_count": null,
      "metadata": {
        "collapsed": false
      },
      "outputs": [],
      "source": [
        "%matplotlib inline"
      ]
    },
    {
      "cell_type": "markdown",
      "metadata": {},
      "source": [
        "\n# GRIB - Contour Shading Only Over Land\n"
      ]
    },
    {
      "cell_type": "code",
      "execution_count": null,
      "metadata": {
        "collapsed": false
      },
      "outputs": [],
      "source": [
        "# (C) Copyright 2017- ECMWF.\n#\n# This software is licensed under the terms of the Apache Licence Version 2.0\n# which can be obtained at http://www.apache.org/licenses/LICENSE-2.0.\n#\n# In applying this licence, ECMWF does not waive the privileges and immunities\n# granted to it by virtue of its status as an intergovernmental organisation\n# nor does it submit to any jurisdiction.\n#\n\nimport metview as mv\n\n# read grib data\nfilename = \"2m_temperature.grib\"\nif mv.exist(filename):\n    f = mv.read(filename)\nelse:\n    f = mv.download_gallery_data(filename)\n\n# define coastlines with sea shading but no land shading.\n# We set map_layer_mode=\"foreground\" to make the\n# sea shading appear on top of the contour plot!\ncoast = mv.mcoast(\n    map_coastline_sea_shade=\"on\",\n    map_coastline_sea_shade_colour=\"charcoal\",\n    map_grid_colour=\"RGB(0.4,0.4,0.4)\",\n    map_grid_frame=\"on\",\n    map_label=\"off\",\n    map_layer_mode=\"foreground\",\n)\n\n# define map view\nview = mv.geoview(\n    map_projection=\"mollweide\",\n    subpage_y_position=15,\n    subpage_frame=\"off\",\n    coastlines=coast,\n)\n\n# define contour_shading\ncont = mv.mcont(\n    contour_automatic_setting=\"style_name\",\n    contour_style_name=\"sh_all_fM64t52i4\",\n    legend=\"on\",\n)\n\n# define the output plot file\nmv.setoutput(mv.pdf_output(output_name=\"shading_only_over_land\"))\n\n# generate plot\nmv.plot(view, f, cont)"
      ]
    }
  ],
  "metadata": {
    "kernelspec": {
      "display_name": "Python 3",
      "language": "python",
      "name": "python3"
    },
    "language_info": {
      "codemirror_mode": {
        "name": "ipython",
        "version": 3
      },
      "file_extension": ".py",
      "mimetype": "text/x-python",
      "name": "python",
      "nbconvert_exporter": "python",
      "pygments_lexer": "ipython3",
      "version": "3.8.0"
    }
  },
  "nbformat": 4,
  "nbformat_minor": 0
}