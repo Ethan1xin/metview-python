{
  "cells": [
    {
      "cell_type": "code",
      "execution_count": null,
      "metadata": {
        "collapsed": false
      },
      "outputs": [],
      "source": [
        "%matplotlib inline"
      ]
    },
    {
      "cell_type": "markdown",
      "metadata": {},
      "source": [
        "\n# GRIB - Temperature Below 0 Celsius\n"
      ]
    },
    {
      "cell_type": "code",
      "execution_count": null,
      "metadata": {
        "collapsed": false
      },
      "outputs": [],
      "source": [
        "# (C) Copyright 2017- ECMWF.\n#\n# This software is licensed under the terms of the Apache Licence Version 2.0\n# which can be obtained at http://www.apache.org/licenses/LICENSE-2.0.\n#\n# In applying this licence, ECMWF does not waive the privileges and immunities\n# granted to it by virtue of its status as an intergovernmental organisation\n# nor does it submit to any jurisdiction.\n#\n\n# -------------------------------------------------------------------------\n# Demonstrates how to define a contour level list so that only\n# field values in a certain range are coloured.\n# -------------------------------------------------------------------------\n\nimport metview as mv\n\n# read the input grib file\nfilename = \"2m_temperature.grib\"\nif mv.exist(filename):\n    my_data = mv.read(filename)\nelse:\n    my_data = mv.download_gallery_data(filename)\n\n# set up the background coastlines\nmy_background = mv.mcoast(\n    map_label=\"ON\",\n    map_grid_line_style=\"DASH\",\n    map_grid_colour=\"GREY\",\n    map_coastline_colour=\"BLACK\",\n    map_coastline_land_shade=\"ON\",\n    map_coastline_land_shade_colour=\"CREAM\",\n)\n\n# set up the geographical area\nmy_view = mv.geoview(\n    map_area_definition=\"CORNERS\",\n    map_projection=\"CYLINDRICAL\",\n    area=[35, -15, 70, 35],\n    coastlines=my_background,\n)\n\n# set up the contour so that only one level is coloured\nmy_contour = mv.mcont(\n    contour_level_selection_type=\"LEVEL_LIST\",\n    contour_level_list=[-70.00, 0.00],\n    contour_label=\"OFF\",\n    legend=\"ON\",\n    contour=\"OFF\",\n    contour_shade=\"ON\",\n    contour_shade_colour_method=\"LIST\",\n    contour_shade_method=\"AREA_FILL\",\n    contour_shade_colour_direction=\"ANTI_CLOCKWISE\",\n    contour_shade_colour_list=[\"rgba(0.498,0.8,0.8,0.6)\"],\n)\n\n# set-up the title\nmy_title = mv.mtext(\n    text_font_size=0.5,\n    text_lines=[\"<font size='0.7'>Temperature below 0C</font>\", \"<magics_title/>\", \"\"],\n    text_colour=\"CHARCOAL\",\n)\n\n# define the output plot file\nmv.setoutput(mv.pdf_output(output_name=\"contour10\"))\n\n# plot the data onto the map\nmv.plot(my_view, my_data, my_contour, my_title)"
      ]
    }
  ],
  "metadata": {
    "kernelspec": {
      "display_name": "Python 3",
      "language": "python",
      "name": "python3"
    },
    "language_info": {
      "codemirror_mode": {
        "name": "ipython",
        "version": 3
      },
      "file_extension": ".py",
      "mimetype": "text/x-python",
      "name": "python",
      "nbconvert_exporter": "python",
      "pygments_lexer": "ipython3",
      "version": "3.8.0"
    }
  },
  "nbformat": 4,
  "nbformat_minor": 0
}