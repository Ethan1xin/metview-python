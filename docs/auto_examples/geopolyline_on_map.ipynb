{
  "cells": [
    {
      "cell_type": "code",
      "execution_count": null,
      "metadata": {
        "collapsed": false
      },
      "outputs": [],
      "source": [
        "%matplotlib inline"
      ]
    },
    {
      "cell_type": "markdown",
      "metadata": {},
      "source": [
        "\n# Geopolyline on Map\n"
      ]
    },
    {
      "cell_type": "code",
      "execution_count": null,
      "metadata": {
        "collapsed": false
      },
      "outputs": [],
      "source": [
        "# (C) Copyright 2017- ECMWF.\n#\n# This software is licensed under the terms of the Apache Licence Version 2.0\n# which can be obtained at http://www.apache.org/licenses/LICENSE-2.0.\n#\n# In applying this licence, ECMWF does not waive the privileges and immunities\n# granted to it by virtue of its status as an intergovernmental organisation\n# nor does it submit to any jurisdiction.\n#\n\n\nimport metview as mv\n\n\n# set up the shaded coastlines\nland_sea_shade = mv.mcoast(\n    map_coastline_land_shade=\"on\",\n    map_coastline_land_shade_colour=\"RGB(0.98,0.95,0.82)\",\n    map_coastline_sea_shade=\"on\",\n    map_coastline_sea_shade_colour=\"RGB(0.85,0.93,1)\",\n)\n\n# define the geographic view\nview = mv.geoview(\n    map_projection=\"polar_stereographic\",\n    map_area_definition=\"corners\",\n    area=[-5, -30, 10, 84],  # S,W,N,E\n    coastlines=land_sea_shade,\n)\n\npltLst = []\n\n# first polyline (closed) - with shading\nlatPos = [68, 68, 49, 49, 68]\nlonPos = [-45, -17, -17, -45, -45]\nincr = 1\n\n# define visualiser\nvis = mv.mvl_geopolyline(latPos, lonPos, incr)\n\n# define shading and border\ngraph_area = mv.mgraph(\n    graph_type=\"area\",\n    graph_shade_colour=\"orange\",\n    graph_line_colour=\"red\",\n    graph_line_thickness=\"4\",\n    graph_line_style=\"dash\",\n)\n\npltLst.extend([vis, graph_area])\n\n# second polyline (closed) - with shading\n\nlatPos = [48, 48, 40, 28, 28, 42, 48]\nlonPos = [5, 25, 38, 38, -10, -10, 5]\nincr = 1\n\n# define visualiser\nvis = mv.mvl_geopolyline(latPos, lonPos, incr)\n\n# define shading and border\ngraph_area = mv.mgraph(\n    graph_type=\"area\",\n    graph_shade_colour=\"lavender\",\n    graph_line_colour=\"blue\",\n    graph_line_thickness=\"4\",\n    graph_line_style=\"solid\",\n)\npltLst.extend([vis, graph_area])\n\n# third polyline (open) - outline only\n\nlatPos = [21, 21, 5, 5]\nlonPos = [20, 45, 45, 20]\nincr = 1\n\n# define visualiser\nvis = mv.mvl_geopolyline(latPos, lonPos, incr)\n\n# define shading and border\ngraph_line = mv.mgraph(\n    graph_type=\"curve\",\n    graph_line_colour=\"purple\",\n    graph_line_thickness=\"4\",\n    graph_line_style=\"dot\",\n)\n\npltLst.extend([vis, graph_line])\n\n# define the output plot file\nmv.setoutput(mv.pdf_output(output_name=\"geopolyline_on_map\"))\n\n# plot the polygons on the map\nmv.plot(view, pltLst)"
      ]
    }
  ],
  "metadata": {
    "kernelspec": {
      "display_name": "Python 3",
      "language": "python",
      "name": "python3"
    },
    "language_info": {
      "codemirror_mode": {
        "name": "ipython",
        "version": 3
      },
      "file_extension": ".py",
      "mimetype": "text/x-python",
      "name": "python",
      "nbconvert_exporter": "python",
      "pygments_lexer": "ipython3",
      "version": "3.8.0"
    }
  },
  "nbformat": 4,
  "nbformat_minor": 0
}