{
  "cells": [
    {
      "cell_type": "code",
      "execution_count": null,
      "metadata": {
        "collapsed": false
      },
      "outputs": [],
      "source": [
        "%matplotlib inline"
      ]
    },
    {
      "cell_type": "markdown",
      "metadata": {},
      "source": [
        "\n# GRIB Scatterplot\n"
      ]
    },
    {
      "cell_type": "code",
      "execution_count": null,
      "metadata": {
        "collapsed": false
      },
      "outputs": [],
      "source": [
        "# (C) Copyright 2017- ECMWF.\n#\n# This software is licensed under the terms of the Apache Licence Version 2.0\n# which can be obtained at http://www.apache.org/licenses/LICENSE-2.0.\n#\n# In applying this licence, ECMWF does not waive the privileges and immunities\n# granted to it by virtue of its status as an intergovernmental organisation\n# nor does it submit to any jurisdiction.\n#\n\nimport metview as mv\n\n# get data\nuse_mars = False\nif use_mars:\n    # retrieve data from MARS\n\n    # analysis\n    an = mv.retrieve(\n        type=\"an\", levtype=\"ml\", levelist=110, param=\"t\", time=6, grid=[1, 1]\n    )\n\n    # analysis increment\n    an_incr = mv.retrieve(\n        type=\"4i\",\n        levtype=\"ml\",\n        levelist=110,\n        param=200130,\n        time=9,\n        iteration=3,\n        grid=[1, 1],\n    )\nelse:\n    # read data from GRIB file\n    f = mv.read(\"an_incr.grib\")\n    an = f[0]\n    an_incr = f[1]\n\n\n# extract field values into numpy arrays\nv1 = mv.values(an)\nv2 = mv.values(an_incr)\n\n# define 2D-binning for scatterplot\nb = mv.binning(binning_x_count=100, binning_y_count=100)\n\n# define scatterplot\nvis = mv.input_visualiser(\n    input_plot_type=\"xy_binning\", input_x_values=v1, input_y_values=v2, input_binning=b\n)\n\n# define contour shading\ncont = mv.mcont(\n    legend=\"on\",\n    contour=\"off\",\n    contour_level_selection_type=\"level_list\",\n    contour_level_list=[1, 10, 50, 100, 200, 500, 1000],\n    contour_label=\"off\",\n    contour_shade=\"on\",\n    contour_shade_technique=\"grid_shading\",\n    contour_shade_max_level_colour=\"red\",\n    contour_shade_min_level_colour=\"RGB(0.6672,0.7658,0.8465)\",\n)\n\n# define axes\nhorizontal_axis = mv.maxis(\n    axis_position=\"left\", axis_title_text=\"Analyis [K]\", axis_tick_interval=5\n)\n\nvertical_axis = mv.maxis(\n    axis_orientation=\"vertical\", axis_title_text=\"Analysis increment [K]\"\n)\n\n# define view\nview = mv.cartesianview(\n    x_automatic=\"on\",\n    y_automatic=\"on\",\n    horizontal_axis=horizontal_axis,\n    vertical_axis=vertical_axis,\n)\n\n# define title\ntxt = \"Temperature - Date: {} Level: 110\".format(mv.base_date(an))\ntitle = mv.mtext(text_line_1=txt, text_font_size=0.4)\n\n# define legend\nlegend = mv.mlegend(legend_text_font_size=0.3)\n\n# define the output plot file\nmv.setoutput(mv.pdf_output(output_name=\"grib_scatterplot\"))\n\n# generate plot\nmv.plot(view, vis, cont, title, legend)"
      ]
    }
  ],
  "metadata": {
    "kernelspec": {
      "display_name": "Python 3",
      "language": "python",
      "name": "python3"
    },
    "language_info": {
      "codemirror_mode": {
        "name": "ipython",
        "version": 3
      },
      "file_extension": ".py",
      "mimetype": "text/x-python",
      "name": "python",
      "nbconvert_exporter": "python",
      "pygments_lexer": "ipython3",
      "version": "3.8.0"
    }
  },
  "nbformat": 4,
  "nbformat_minor": 0
}