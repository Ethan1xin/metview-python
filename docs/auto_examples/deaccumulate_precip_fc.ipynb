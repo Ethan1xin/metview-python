{
  "cells": [
    {
      "cell_type": "code",
      "execution_count": null,
      "metadata": {
        "collapsed": false
      },
      "outputs": [],
      "source": [
        "%matplotlib inline"
      ]
    },
    {
      "cell_type": "markdown",
      "metadata": {},
      "source": [
        "\n# De-accumulate Precipitation Forecast\n"
      ]
    },
    {
      "cell_type": "code",
      "execution_count": null,
      "metadata": {
        "collapsed": false
      },
      "outputs": [],
      "source": [
        "# (C) Copyright 2017- ECMWF.\n#\n# This software is licensed under the terms of the Apache Licence Version 2.0\n# which can be obtained at http://www.apache.org/licenses/LICENSE-2.0.\n#\n# In applying this licence, ECMWF does not waive the privileges and immunities\n# granted to it by virtue of its status as an intergovernmental organisation\n# nor does it submit to any jurisdiction.\n#\n\nimport metview as mv\n\n# getting data\nuse_mars = False\n\n# getting forecast data from MARS\nif use_mars:\n    prec = mv.retrieve(\n        type=\"fc\",\n        levtype=\"sfc\",\n        param=\"tp\",\n        date=20190809,\n        time=0,\n        step=[0, 12, 24, 36, 48],\n        area=[12, 110, 40, 148],\n        grid=[0.1, 0.1],\n    )\n# read data from file\nelse:\n    filename = \"lekima_prec.grib\"\n    if mv.exist(filename):\n        prec = mv.read(filename)\n    else:\n        prec = mv.download_gallery_data(filename)    \n\n# de-accumulate precipitation by subtracting consecutive steps.\n# The result is accumulated precipitation for 12 h intervals\nnum = len(prec)\nprec = prec[1:num] - prec[0 : num - 1]\n\n# define contour_shading. To enable the m->mm units conversion\n# for contouring we need to enable \"grib_scaling_of_derived_fields\"\n# since prec is now regarded as derived (we performed a grid operation\n# on it) by Metview\nprec_shade = mv.mcont(\n    contour_automatic_setting=\"style_name\",\n    contour_style_name=\"sh_blured_f1t100lst\",\n    legend=\"on\",\n    grib_scaling_of_derived_fields=\"on\",\n)\n\n# define coastlines\ncoastlines = mv.mcoast(\n    map_coastline_colour=\"charcoal\",\n    map_coastline_thickness=2,\n    map_coastline_land_shade=\"on\",\n    map_coastline_land_shade_colour=\"RGB(0.5569,0.5569,0.5569)\",\n    map_coastline_sea_shade=\"on\",\n    map_coastline_sea_shade_colour=\"RGB(0.8941,0.8941,0.8941)\",\n)\n\n# define geographical view\nview = mv.geoview(\n    map_area_definition=\"corners\", area=[12, 110, 40, 148], coastlines=coastlines\n)\n\n# create a 2x2 plot layout with the defined geoview\ndw = mv.plot_superpage(pages=mv.mvl_regular_layout(view, 2, 2, 1, 1, [5, 100, 15, 100]))\n\n# define title\ntitle = mv.mtext(\n    text_line_1=\"Param: <grib_info key='shortName'/> [12h] Run: <grib_info key='base-date' format='%Y%m%d %HUTC'/> Step: +<grib_info key='step'/>h\",\n    text_font_size=0.4,\n)\n\n# define legend\nlegend = mv.mlegend(legend_text_font_size=0.3)\n\n# define output\nmv.setoutput(mv.pdf_output(output_name=\"deaccumulate_precip_fc\"))\n\n# generate plot\nmv.plot(\n    dw[0],\n    prec[0],\n    prec_shade,\n    legend,\n    title,\n    dw[1],\n    prec[1],\n    prec_shade,\n    legend,\n    title,\n    dw[2],\n    prec[2],\n    prec_shade,\n    legend,\n    title,\n    dw[3],\n    prec[3],\n    prec_shade,\n    legend,\n    title,\n)"
      ]
    }
  ],
  "metadata": {
    "kernelspec": {
      "display_name": "Python 3",
      "language": "python",
      "name": "python3"
    },
    "language_info": {
      "codemirror_mode": {
        "name": "ipython",
        "version": 3
      },
      "file_extension": ".py",
      "mimetype": "text/x-python",
      "name": "python",
      "nbconvert_exporter": "python",
      "pygments_lexer": "ipython3",
      "version": "3.8.0"
    }
  },
  "nbformat": 4,
  "nbformat_minor": 0
}