{
  "cells": [
    {
      "cell_type": "code",
      "execution_count": null,
      "metadata": {
        "collapsed": false
      },
      "outputs": [],
      "source": [
        "%matplotlib inline"
      ]
    },
    {
      "cell_type": "markdown",
      "metadata": {},
      "source": [
        "\n# Field anomalies\n"
      ]
    },
    {
      "cell_type": "code",
      "execution_count": null,
      "metadata": {
        "collapsed": false
      },
      "outputs": [],
      "source": [
        "# (C) Copyright 2017- ECMWF.\n#\n# This software is licensed under the terms of the Apache Licence Version 2.0\n# which can be obtained at http://www.apache.org/licenses/LICENSE-2.0.\n#\n# In applying this licence, ECMWF does not waive the privileges and immunities\n# granted to it by virtue of its status as an intergovernmental organisation\n# nor does it submit to any jurisdiction.\n#\n\n# -------------------------------------------------------------------------\n# Demonstrates how to plot anomalies from GRIB data (ERA5 here)\n# -------------------------------------------------------------------------\n\nimport metview as mv\n\n# read the GRIB data into a Fieldset\ndiff = mv.read(\"1month_anomaly_Global_ea_2t_201805_v02.grib\")\n\n# compute the absolute maximum value and compute a scale for the contouring\nmaxdiff = mv.maxvalue(abs(diff))\nlevels_relative = [-1, -0.75, -0.5, -0.25, -0.1, 0.1, 0.25, 0.5, 0.75, 1]\nlevels = [lev * maxdiff for lev in levels_relative]\n\n# generate a contouring definition\n# - we must set grib_scaling_of_retrieved_fields=off in order\n# - to prevent scaling from K to C\ndiff_cont = mv.mcont(\n    legend=\"on\",\n    contour=\"off\",\n    contour_level_selection_type=\"level_list\",\n    contour_level_list=levels,\n    contour_shade=\"on\",\n    contour_shade_technique=\"grid_shading\",\n    contour_shade_colour_method=\"palette\",\n    contour_shade_palette_name=\"eccharts_blue_white_red_9\",\n    grib_scaling_of_retrieved_fields=\"off\",\n)\n\n# increase font size in the legend (cm)\nlegend = mv.mlegend(legend_text_font_size=0.3)\n\n# define the output plot file\nmv.setoutput(mv.pdf_output(output_name=\"field_anomalies\"))\n\n# generate the plot\nmv.plot(diff, diff_cont, legend)"
      ]
    }
  ],
  "metadata": {
    "kernelspec": {
      "display_name": "Python 3",
      "language": "python",
      "name": "python3"
    },
    "language_info": {
      "codemirror_mode": {
        "name": "ipython",
        "version": 3
      },
      "file_extension": ".py",
      "mimetype": "text/x-python",
      "name": "python",
      "nbconvert_exporter": "python",
      "pygments_lexer": "ipython3",
      "version": "3.8.0"
    }
  },
  "nbformat": 4,
  "nbformat_minor": 0
}