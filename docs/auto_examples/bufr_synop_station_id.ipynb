{
  "cells": [
    {
      "cell_type": "code",
      "execution_count": null,
      "metadata": {
        "collapsed": false
      },
      "outputs": [],
      "source": [
        "%matplotlib inline"
      ]
    },
    {
      "cell_type": "markdown",
      "metadata": {},
      "source": [
        "\nPlotting Station Ids from SYNOP BUFR\n=======================================\n"
      ]
    },
    {
      "cell_type": "code",
      "execution_count": null,
      "metadata": {
        "collapsed": false
      },
      "outputs": [],
      "source": [
        "# (C) Copyright 2017- ECMWF.\n#\n# This software is licensed under the terms of the Apache Licence Version 2.0\n# which can be obtained at http://www.apache.org/licenses/LICENSE-2.0.\n#\n# In applying this licence, ECMWF does not waive the privileges and immunities\n# granted to it by virtue of its status as an intergovernmental organisation\n# nor does it submit to any jurisdiction.\n\n\nimport metview as mv\n\n# read synop bufr\nbf = mv.read(\"synop.bufr\")\n\n# extract station ids. The problem with SYNOP station id is that it is the\n# combination of two bufr parameters= blockNumber abd stationNumber.\n# We use NCOLS geopoints as an output beacuse the combined station id is automatically\n# extracted as a column. So the actual parameter set for the filter is not relevant\n# at all (it just has to exist for the messages).\ngpt = mv.obsfilter(\n    output=\"ncols\",\n    parameter=\"year\",\n    data=bf,\n    location_filter=\"area\",\n    area=[45, -8, 55, 5],\n)\n\n# read station ids into a list\nid_lst = mv.stnids(gpt)\n\n# define station id text plotting\nsym_txt = mv.msymb(\n    legend=\"off\",\n    symbol_type=\"text\",\n    symbol_colour=\"black\",\n    symbol_text_list=id_lst,\n    symbol_text_position=\"top\",\n    symbol_text_font_size=0.5,\n    symbol_text_blanking=\"on\",\n)\n\n#  define station location plotting\nsym_loc = mv.msymb(\n    legend=\"off\",\n    symbol_type=\"marker\",\n    symbol_colour=\"coral\",\n    symbol_height=0.4,\n    symbol_marker_index=15,\n)\n\n# define coastlines\ncoast = mv.mcoast(\n    map_coastline_colour=\"charcoal\",\n    map_coastline_thickness=2,\n    map_coastline_land_shade=\"on\",\n    map_coastline_land_shade_colour=\"RGB(0.4669,0.6782,0.5373)\",\n    map_coastline_sea_shade=\"on\",\n    map_coastline_sea_shade_colour=\"RGB(0.7475,0.8504,0.9466)\",\n    map_boundaries=\"on\",\n    map_boundaries_colour=\"rust\",\n    map_boundaries_thickness=2,\n    map_grid_colour=\"charcoal\",\n    map_grid_latitude_increment=2,\n    map_grid_longitude_increment=2,\n    map_layer_mode=\"background\",\n)\n\n# define map view\nview = mv.geoview(\n    map_area_definition=\"corners\", area=[49, -2.5, 54, 4], coastlines=coast\n)\n\n# define title\ntitle = mv.mtext(text_line_1=\"SYNOP Station Identifiers\", text_font_size=0.5)\n\n# define the output plot file\nmv.setoutput(mv.pdf_output(output_name=\"bufr_synop_station_id\"))\n\n# generate plot\nmv.plot(view, gpt, sym_txt, sym_loc, title)"
      ]
    }
  ],
  "metadata": {
    "kernelspec": {
      "display_name": "Python 3",
      "language": "python",
      "name": "python3"
    },
    "language_info": {
      "codemirror_mode": {
        "name": "ipython",
        "version": 3
      },
      "file_extension": ".py",
      "mimetype": "text/x-python",
      "name": "python",
      "nbconvert_exporter": "python",
      "pygments_lexer": "ipython3",
      "version": "3.8.5"
    }
  },
  "nbformat": 4,
  "nbformat_minor": 0
}