{
  "cells": [
    {
      "cell_type": "code",
      "execution_count": null,
      "metadata": {
        "collapsed": false
      },
      "outputs": [],
      "source": [
        "%matplotlib inline"
      ]
    },
    {
      "cell_type": "markdown",
      "metadata": {},
      "source": [
        "\n# Graph Plot with Double Axis\n"
      ]
    },
    {
      "cell_type": "code",
      "execution_count": null,
      "metadata": {
        "collapsed": false
      },
      "outputs": [],
      "source": [
        "# (C) Copyright 2017- ECMWF.\n#\n# This software is licensed under the terms of the Apache Licence Version 2.0\n# which can be obtained at http://www.apache.org/licenses/LICENSE-2.0.\n#\n# In applying this licence, ECMWF does not waive the privileges and immunities\n# granted to it by virtue of its status as an intergovernmental organisation\n# nor does it submit to any jurisdiction.\n#\n\nimport metview as mv\n\n# -------------------------------------------------------------------------\n# Description: Demonstrates how to make a graph plot with two vertical axes\n# -------------------------------------------------------------------------\n\n# We will compute a vertical profile from a point in a data set\n# that is on model levels. This will be plotted with model levels\n# as the left-hand vertical axis, and computed pressure levels on the\n# right-hand vertical axis.\n\n# read the input model level grib file\nfilename = \"fc_ml.grib\"\nif mv.exist(filename):\n    g = mv.read(filename)\nelse:\n    g = mv.download_gallery_data(filename) \n\n# read the LNSP file \nfilename = \"lnsp.grib\"\nif mv.exist(filename):\n    lnsp_data = mv.read(filename)\nelse:\n    lnsp_data = mv.download_gallery_data(filename) \n\n\n# define profile location\nlat_lon_point = [56.9, -2.6]\n\n# read temperature data\nt_data = mv.read(data=g, parameter=\"t\")\n\nmodel_levels = mv.grib_get_long(t_data, \"level\")\n\niv1 = mv.input_visualiser(\n    input_x_values=mv.nearest_gridpoint(t_data, lat_lon_point),\n    input_y_values=model_levels,\n)\n\ndots = mv.msymb(symbol_type=\"marker\", symbol_outline=\"on\", symbol_marker_index=15)\n\n# compute pressure levels for the input model levels\npressure_fields = mv.pressure(lnsp_data, t_data)\npressure_levels = mv.nearest_gridpoint(pressure_fields, lat_lon_point)\npressure_levels = [x / 100 for x in pressure_levels]\n\n# Construct two Cartesian views; the first will be plotted with data, the\n# second will be plotted without data in order to plot just its vertical axis\n\n# set up the main Cartesian view - it has a left-hand vertical axis\nprimary_vertical_axis = mv.maxis(\n    axis_orientation=\"vertical\",\n    axis_title_text=\"model levels\",\n    axis_title_height=0.5,\n    axis_tick_label_hight=0.5,\n)\n\nc1 = mv.cartesianview(\n    y_min=max(model_levels),  # larger level usually at bottom\n    y_max=min(model_levels),\n    x_min=180,  # Kelvin\n    x_max=320,  # Kelvin\n    vertical_axis=primary_vertical_axis,\n)\n\n# set up the secondary Cartesian view with a right-hand vertical axis\nsecondary_vertical_axis = mv.maxis(\n    axis_orientation=\"vertical\",\n    axis_position=\"right\",\n    axis_title_text=\"pres levels\",\n    axis_title_height=0.5,\n    axis_tick_label_hight=0.5,\n)\n\n# switch off the plotting of its horizontal axis\nsecondary_horizontal_axis = mv.maxis(\n    axis_line=\"off\", axis_tick=\"off\", axis_tick_label=\"off\"\n)\n\nc2 = mv.cartesianview(\n    y_min=max(pressure_levels),\n    y_max=min(pressure_levels),\n    vertical_axis=secondary_vertical_axis,\n    horizontal_axis=secondary_horizontal_axis,\n)\n\n# set up the pages that will use these views\np1 = mv.plot_page(view=c1)\np2 = mv.plot_page(view=c2)\ndw = mv.plot_superpage(pages=[p1, p2])\n\n# define the output plot file\nmv.setoutput(mv.pdf_output(output_name=\"double_axis_1\"))\n\n# plot the data into the first view, then plot the second view empty\nmv.plot(dw[0], iv1, dots, dw[1])"
      ]
    }
  ],
  "metadata": {
    "kernelspec": {
      "display_name": "Python 3",
      "language": "python",
      "name": "python3"
    },
    "language_info": {
      "codemirror_mode": {
        "name": "ipython",
        "version": 3
      },
      "file_extension": ".py",
      "mimetype": "text/x-python",
      "name": "python",
      "nbconvert_exporter": "python",
      "pygments_lexer": "ipython3",
      "version": "3.8.0"
    }
  },
  "nbformat": 4,
  "nbformat_minor": 0
}