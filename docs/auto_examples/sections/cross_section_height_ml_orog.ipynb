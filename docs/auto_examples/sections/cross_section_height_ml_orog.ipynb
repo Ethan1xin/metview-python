{
  "cells": [
    {
      "cell_type": "code",
      "execution_count": null,
      "metadata": {
        "collapsed": false
      },
      "outputs": [],
      "source": [
        "%matplotlib inline"
      ]
    },
    {
      "cell_type": "markdown",
      "metadata": {},
      "source": [
        "\n# Cross Section in Height for Model Level Data with Orography\n"
      ]
    },
    {
      "cell_type": "code",
      "execution_count": null,
      "metadata": {
        "collapsed": false
      },
      "outputs": [],
      "source": [
        "# (C) Copyright 2017- ECMWF.\n#\n# This software is licensed under the terms of the Apache Licence Version 2.0\n# which can be obtained at http://www.apache.org/licenses/LICENSE-2.0.\n#\n# In applying this licence, ECMWF does not waive the privileges and immunities\n# granted to it by virtue of its status as an intergovernmental organisation\n# nor does it submit to any jurisdiction.\n#\n\nimport metview as mv\n\n# get data\nuse_mars = False\nif use_mars:\n    # retrieve data from MARS\n    ret_core = {\n        \"date\": 20200822,\n        \"time\": 0,\n        \"area\": [40, -93, 51, -84],\n        \"grid\": [0.5, 0.5],\n    }\n\n    # forecast fields on all the model levels (bottom=ML-137, top=ML-1)\n    # Note= log surface pressure (lnsp) is defined on ML-1!\n    fs_ml = mv.retrieve(\n        **ret_core,\n        type=\"fc\",\n        levtype=\"ml\",\n        levelist=[1, \"TO\", 137],\n        step=12,\n        param=[\"t\", \"q\", \"lnsp\"]\n    )\n\n    # surface geopotential is available in\n    # the analysis only! It is available on ML-1!\n    zs = mv.retrieve(**ret_core, type=\"an\", levtype=\"ml\", levelist=1, param=\"z\")\nelse:\n    # read data from GRIB file\n    filename = \"xs_ml_orog.grib\"\n    if mv.exist(filename):\n        fs_ml = mv.read(filename)\n    else:\n        fs_ml = mv.download_gallery_data(filename)\n    zs = mv.read(data=fs_ml, param=\"z\")\n\n# extract ml data\nt = mv.read(data=fs_ml, param=\"t\")\nq = mv.read(data=fs_ml, param=\"q\")\nlnsp = mv.read(data=fs_ml, param=\"lnsp\")\n\n# compute geopotential on model levels\nz = mv.mvl_geopotential_on_ml(t, q, lnsp, zs)\n\n# define cross section line\nline = [50.21, -91.82, 40.82, -84.71]\n\n# define bottom level (m)\nbottom_level = 0\n\n# extract a set of levels needed for the cross section\n# and converts temperature from K to C and z to m\nt = mv.read(data=t, levelist=[137, \"TO\", 100]) - 273.16\nz = mv.read(data=z, levelist=[137, \"TO\", 100]) / 9.81\n\n# compute cross section in height (above sea level) for t\n# (using z, paramId=129)\nxs_t = mv.mcross_sect(\n    data=mv.merge(t, z),\n    line=line,\n    vertical_coordinates=\"user\",\n    vertical_coordinate_param=129,\n    vertical_coordinate_extrapolate=\"on\",\n)\n\n# generate orography area curve\norog_curve = mv.xs_build_orog(xs_t, zs / 9.81, bottom_level, \"charcoal\")\n\n# define contour shading for temperature\ncont = mv.mcont(\n    legend=\"on\",\n    contour_line_colour=\"charcoal\",\n    contour_highlight=\"off\",\n    contour_level_selection_type=\"interval\",\n    contour_max_level=23.5,\n    contour_min_level=16.5,\n    contour_interval=0.5,\n    contour_shade=\"on\",\n    contour_shade_method=\"area_fill\",\n    contour_shade_max_level_colour=\"red\",\n    contour_shade_min_level_colour=\"green\",\n    contour_shade_colour_direction=\"clockwise\",\n)\n\n# define vertical axis\nvertical_axis = mv.maxis(\n    axis_orientation=\"vertical\",\n    axis_title_text=\"Height ASL (m)\",\n    axis_tick_label_height=0.4,\n)\n\n# define cross section in height above sea level  (m)\nxs_view = mv.mxsectview(\n    line=line, top_level=1000, bottom_level=bottom_level, vertical_axis=vertical_axis\n)\n\n# define legend\nlegend = mv.mlegend(legend_text_font_size=0.35)\n\n# define title\ntitle = mv.mtext(text_font_size=0.4)\n\n# define the output plot file\nmv.setoutput(mv.pdf_output(output_name=\"cross_section_height_ml_orog\"))\n\n# generate plot\nmv.plot(xs_view, xs_t, cont, orog_curve, legend, title)"
      ]
    }
  ],
  "metadata": {
    "kernelspec": {
      "display_name": "Python 3",
      "language": "python",
      "name": "python3"
    },
    "language_info": {
      "codemirror_mode": {
        "name": "ipython",
        "version": 3
      },
      "file_extension": ".py",
      "mimetype": "text/x-python",
      "name": "python",
      "nbconvert_exporter": "python",
      "pygments_lexer": "ipython3",
      "version": "3.8.0"
    }
  },
  "nbformat": 4,
  "nbformat_minor": 0
}