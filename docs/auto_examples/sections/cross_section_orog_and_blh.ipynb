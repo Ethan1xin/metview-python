{
  "cells": [
    {
      "cell_type": "code",
      "execution_count": null,
      "metadata": {
        "collapsed": false
      },
      "outputs": [],
      "source": [
        "%matplotlib inline"
      ]
    },
    {
      "cell_type": "markdown",
      "metadata": {},
      "source": [
        "\n# Cross Section with Orography and Boundary Layer Height\n"
      ]
    },
    {
      "cell_type": "code",
      "execution_count": null,
      "metadata": {
        "collapsed": false
      },
      "outputs": [],
      "source": [
        "# (C) Copyright 2017- ECMWF.\n#\n# This software is licensed under the terms of the Apache Licence Version 2.0\n# which can be obtained at http://www.apache.org/licenses/LICENSE-2.0.\n#\n# In applying this licence, ECMWF does not waive the privileges and immunities\n# granted to it by virtue of its status as an intergovernmental organisation\n# nor does it submit to any jurisdiction.\n#\n\nimport metview as mv\n\n# get data\nuse_mars = False\nif use_mars:\n    # get data from MARS\n    ret_core = {\n        \"date\": \"20200723\",\n        \"time\": 0,\n        \"area\": [-8, 25, -25, 55],\n        \"grid\": [0.2, 0.2],\n    }\n\n    # forecast fields on all the model levels (bottom=ML-137, top=ML-1)\n    # Note= log surface pressure (lnsp) is defined on ML-1!\n    fs_ml = mv.retrieve(\n        **ret_core,\n        type=\"fc\",\n        levtype=\"ml\",\n        levelist=[1, \"TO\", 137],\n        step=12,\n        param=[\"t\", \"q\", \"u\", \"v\", \"lnsp\"]\n    )\n\n    # surface geopotential is available in\n    # the analysis only! It is available on ML-1!\n    zs = mv.retrieve(**ret_core, type=\"an\", levtype=\"ml\", levelist=1, param=\"z\")\n\n    # boundary layer height forecast\n    blh = mv.retrieve(**ret_core, type=\"fc\", levtype=\"sfc\", param=\"blh\", step=12)\nelse:\n    # read data from GRIB file\n    filename = \"xs_blh.grib\"\n    if mv.exist(filename):\n        fs_in = mv.read(filename)\n    else:\n        fs_in = mv.download_gallery_data(filename)\n    fs_ml = mv.read(data=fs_in, levtype=\"ml\")\n    zs = mv.read(data=fs_ml, param=\"z\")\n    blh = mv.read(data=fs_in, param=\"blh\")\n\n# extract ml data\nt = mv.read(data=fs_ml, param=\"t\")\nq = mv.read(data=fs_ml, param=\"q\")\nlnsp = mv.read(data_ml=fs_ml, param=\"lnsp\")\nu = mv.read(data=fs_ml, param=\"u\")\nv = mv.read(data=fs_ml, param=\"v\")\n\n# define cross section line\nline = [-10, 28, -21, 52]\n\n# -------------------------------------------\n# Generate cross section data for wind speed\n# -------------------------------------------\n\n# compute wind speed and set its paramId\nsp = mv.sqrt(u * u + v * v)\nsp = mv.grib_set_long(sp, [\"paramId\", 10])\n\n# compute cross section data for sp\n# (this is a NetCDF object)\nsp_fs = sp\nsp_fs.append(lnsp)\nxs_sp = mv.mcross_sect(data=sp_fs, line=line)\n\n# -------------------------------------------\n# Generate curve for BL height\n# -------------------------------------------\n\n# compute geopotential on model levels\nz = mv.mvl_geopotential_on_ml(t, q, lnsp, zs)\n\n# compute pressure on model levels\np = mv.unipressure(lnsp)\n\n# interpolate pressure to the height of the BL\np_blh = mv.ml_to_hl(p, z, zs, blh, \"ground\", \"linear\")\n\n# define a curve object (in hPa) for the pressure of BL height\np_blh_curve = mv.xs_build_curve(xs_sp, p_blh / 100, \"red\", \"solid\", 3)\n\n# define shading for wind speed using a palette\nsp_cont = mv.mcont(\n    legend=\"on\",\n    contour_line_colour=\"charcoal\",\n    contour_highlight=\"off\",\n    contour_level_selection_type=\"interval\",\n    contour_max_level=18,\n    contour_min_level=0,\n    contour_interval=2,\n    contour_shade=\"on\",\n    contour_shade_colour_method=\"palette\",\n    contour_shade_method=\"area_fill\",\n    contour_shade_palette_name=\"m_purple_9\",\n)\n\n# define vertical axis\nvertical_axis = mv.maxis(\n    axis_orientation=\"vertical\",\n    axis_type=\"position_list\",\n    axis_tick_position_list=[1000, 925, 850, 700, 600, 500],\n    axis_tick_label_height=0.4,\n)\n\n# define cross section in log pressure (hPa)\nxs_view = mv.mxsectview(\n    line=line,\n    top_level=500,\n    bottom_level=1030,\n    vertical_scaling=\"log\",\n    vertical_axis=vertical_axis,\n)\n\n# define orography area shading\norog_graph = mv.mgraph(graph_type=\"area\", graph_shade_colour=\"charcoal\")\n\n# define legend\nlegend = mv.mlegend(legend_text_font_size=0.35)\n\n# define title\ntitle = mv.mtext(text_font_size=0.4)\n\n# define the output plot file\nmv.setoutput(mv.pdf_output(output_name=\"cross_section_orog_and_blh\"))\n\n# generate plot\nmv.plot(xs_view, xs_sp, sp_cont, orog_graph, p_blh_curve, legend, title)"
      ]
    }
  ],
  "metadata": {
    "kernelspec": {
      "display_name": "Python 3",
      "language": "python",
      "name": "python3"
    },
    "language_info": {
      "codemirror_mode": {
        "name": "ipython",
        "version": 3
      },
      "file_extension": ".py",
      "mimetype": "text/x-python",
      "name": "python",
      "nbconvert_exporter": "python",
      "pygments_lexer": "ipython3",
      "version": "3.8.0"
    }
  },
  "nbformat": 4,
  "nbformat_minor": 0
}