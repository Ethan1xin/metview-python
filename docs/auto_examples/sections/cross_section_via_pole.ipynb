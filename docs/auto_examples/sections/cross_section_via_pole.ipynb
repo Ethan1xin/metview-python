{
  "cells": [
    {
      "cell_type": "code",
      "execution_count": null,
      "metadata": {
        "collapsed": false
      },
      "outputs": [],
      "source": [
        "%matplotlib inline"
      ]
    },
    {
      "cell_type": "markdown",
      "metadata": {},
      "source": [
        "\n# Cross Section Going Through the South Pole\n"
      ]
    },
    {
      "cell_type": "code",
      "execution_count": null,
      "metadata": {
        "collapsed": false
      },
      "outputs": [],
      "source": [
        "# (C) Copyright 2017- ECMWF.\n#\n# This software is licensed under the terms of the Apache Licence Version 2.0\n# which can be obtained at http://www.apache.org/licenses/LICENSE-2.0.\n#\n# In applying this licence, ECMWF does not waive the privileges and immunities\n# granted to it by virtue of its status as an intergovernmental organisation\n# nor does it submit to any jurisdiction.\n#\n\nimport metview as mv\n\n# get input (pressure level) data\nuse_mars = False\n\n# retrieve analysis data from MARS\nif use_mars:\n    f_o3 = mv.retrieve(\n        levelist=[\n            1000,\n            850,\n            700,\n            500,\n            400,\n            300,\n            250,\n            200,\n            150,\n            100,\n            70,\n            50,\n            30,\n            20,\n            10,\n            7,\n            5,\n            3,\n            2,\n            1,\n        ],\n        param=\"o3\",\n        date=20191015,\n        time=12,\n        area=[-65, -180, -90, 180],\n        grid=[1, 1],\n    )\n# read data from file\nelse:\n    filename = \"ozone_pl.grib\"\n    if mv.exist(filename):\n        f_o3 = mv.read(filename)\n    else:\n        f_o3 = mv.download_gallery_data(filename)\n   \n# ---------------------------\n# Cross section\n# ----------------------------\n\n# define cross section line via the South Pole going\n# from [65S, 10E] to [65S, 170W].\nline = [-65, 10, -115, 10]\n\n# define vertical axis\nvertical_axis = mv.maxis(axis_tick_label_height=0.4)\n\n# define cross section view wind projected to the normal vector of the\n# cross section plane\nxs = mv.mxsectview(\n    bottom_level=100,\n    top_level=1,\n    line=line,\n    wind_parallel=\"off\",\n    wind_perpendicular=\"on\",\n    wind_intenisty=\"off\",\n    vertical_scaling=\"log\",\n    vertical_axiix=vertical_axis,\n)\n\n# define contour shading for ozone\no3_shade = mv.mcont(\n    legend=\"on\",\n    contour_line_colour=\"charcoal\",\n    contour_highlight=\"off\",\n    contour_max_level=1.5e-5,\n    contour_min_level=0,\n    contour_shade=\"on\",\n    contour_shade_colour_method=\"palette\",\n    contour_shade_method=\"area_fill\",\n    contour_shade_palette_name=\"m_blue_green2_10\",\n    grib_scaling_of_retrieved_fields=\"off\",\n)\n\n# ---------------------------------------------\n#  Map view with cross section line\n# ---------------------------------------------\n\n# define coastlines\ncoast = mv.mcoast(\n    map_coastline_thickness=3,\n    map_grid_longitude_increment=30,\n    map_label=\"off\",\n    map_coastline_land_shade=\"on\",\n    map_coastline_land_shade_colour=\"grey\",\n)\n\n# define map view\nmap = mv.geoview(\n    map_projection=\"polar_stereographic\",\n    map_area_definition=\"corners\",\n    area=[-50.67, -148.88, -50.2, 30.29],\n    map_hemisphere=\"south\",\n    map_vertical_longitude=160,\n    coastlines=coast,\n    subpage_y_lenght=75,\n)\n\n# cross section line visualiser\nvis_line = mv.input_visualiser(\n    input_plot_type=\"geo_points\",\n    input_longitude_values=[line[1], line[3]],\n    input_latitude_values=[line[0], line[2]],\n)\n\ngraph_line = mv.mgraph(graph_line_colour=\"red\", graph_line_thickness=4)\n\n# ---------------------------------------------\n#  Define layout\n# --------------------------------------------\n\nmap_page = mv.plot_page(bottom=30, view=map)\n\nxs_page = mv.plot_page(top=30, view=xs)\n\ndw = mv.plot_superpage(pages=[map_page, xs_page])\n\n# ---------------------------------------------\n#  Generate plot\n# --------------------------------------------\n\n# xs legend\nxs_legend = mv.mlegend(legend_text_font_size=\"0.35\")\n\n# xs title\nxs_title = mv.mtext(text_font_size=\"0.45\")\n\n# define the output plot file\nmv.setoutput(mv.pdf_output(output_name=\"cross_section_via_pole\"))\n\n# generate plot\nmv.plot(dw[0], vis_line, graph_line, dw[1], f_o3, o3_shade, xs_legend, xs_title)"
      ]
    }
  ],
  "metadata": {
    "kernelspec": {
      "display_name": "Python 3",
      "language": "python",
      "name": "python3"
    },
    "language_info": {
      "codemirror_mode": {
        "name": "ipython",
        "version": 3
      },
      "file_extension": ".py",
      "mimetype": "text/x-python",
      "name": "python",
      "nbconvert_exporter": "python",
      "pygments_lexer": "ipython3",
      "version": "3.8.0"
    }
  },
  "nbformat": 4,
  "nbformat_minor": 0
}