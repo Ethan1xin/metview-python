{
  "cells": [
    {
      "cell_type": "code",
      "execution_count": null,
      "metadata": {
        "collapsed": false
      },
      "outputs": [],
      "source": [
        "%matplotlib inline"
      ]
    },
    {
      "cell_type": "markdown",
      "metadata": {},
      "source": [
        "\n# CDF Curve\n"
      ]
    },
    {
      "cell_type": "code",
      "execution_count": null,
      "metadata": {
        "collapsed": false
      },
      "outputs": [],
      "source": [
        "# (C) Copyright 2017- ECMWF.\n#\n# This software is licensed under the terms of the Apache Licence Version 2.0\n# which can be obtained at http://www.apache.org/licenses/LICENSE-2.0.\n#\n# In applying this licence, ECMWF does not waive the privileges and immunities\n# granted to it by virtue of its status as an intergovernmental organisation\n# nor does it submit to any jurisdiction.\n#\n\nimport numpy as np\nimport metview as mv\n\n# define location\nlat = 51.5\nlon = -1\nstat_name = \"Reading\"\n\nplot_lst = []\nlegend_lst = []\nlinecolor = [\"red\", \"blue\", \"green\", \"black\", \"cyan\", \"evergreen\", \"gold\", \"pink\"]\n\n# get ENS data\nfilename = \"wgust_ens.grib\"\nif mv.exist(filename):\n    g = mv.read(filename)\nelse:\n    g = mv.download_gallery_data(filename)\n\n# compute CDF and build curve for each timestep\nsteps = [78, 84, 90]\nfor i in range(len(steps)):\n    # get data for timestep\n    f = mv.read(data=g, step=steps[i])\n\n    # compute CDF\n    v = mv.nearest_gridpoint(f, lat, lon)\n    y = np.arange(0, 101)\n    x = np.percentile(v, y)\n\n    # define curve\n    vd = mv.mgraph(\n        graph_line_style=\"solid\",\n        graph_type=\"curve\",\n        graph_line_colour=linecolor[i],\n        graph_line_thickness=10,\n        legend=\"on\",\n    )\n\n    curve = mv.input_visualiser(input_x_values=list(x), input_y_values=list(y))\n    plot_lst.append([curve, vd])\n\n    # define legend text\n    legend_lst.append(\"{}h\".format(steps[i]))\n\n# define title\ntitle = mv.mtext(\n    text_line_1=\"Wind Gust - CDF for {} (lat={}, lon={})\".format(stat_name, lat, lon),\n    text_font_size=0.5,\n)\n\n# define legend\nlegend = mv.mlegend(\n    legend_display_type=\"disjoint\",\n    legend_entry_plot_direction=\"column\",\n    legend_text_composition=\"user_text_only\",\n    legend_border_colour=\"black\",\n    legend_box_mode=\"positional\",\n    legend_box_x_position=2.5,\n    legend_box_y_position=12,\n    legend_box_x_length=5,\n    legend_box_y_length=5,\n    legend_text_font_size=0.5,\n    legend_user_lines=legend_lst,\n)\n\n# define horizontal axis\nhor_axis = mv.maxis(\n    axis_position=\"left\",\n    axis_title_text=\"Wind gust (m/s)\",\n    axis_tick_interval=5,\n    axis_minor_tick=\"off\",\n    axis_grid=\"on\",\n    axis_grid_colour=\"black\",\n    axis_grid_line_style=\"dot\",\n)\n\n# define vertical axis\nver_axis = mv.maxis(\n    axis_orientation=\"vertical\",\n    axis_title_text=\"Percentile (%)\",\n    axis_tick_interval=10,\n    axis_minor_tick=\"on\",\n    axis_minor_tick_count=1,\n    axis_grid=\"on\",\n    axis_grid_colour=\"black\",\n    axis_grid_line_style=\"dot\",\n)\n\n# define Cartesian view\nview = mv.cartesianview(\n    x_min=0,\n    x_max=40,\n    y_min=0,\n    y_max=100,\n    subpage_y_position=12.5,\n    subpage_y_length=75,\n    horizontal_axis=hor_axis,\n    vertical_axis=ver_axis,\n)\n\n\n# define the output plot file\nmv.setoutput(mv.pdf_output(output_name=\"cdf_curve\"))\n\n# plot\nmv.plot(view, plot_lst, legend, title)"
      ]
    }
  ],
  "metadata": {
    "kernelspec": {
      "display_name": "Python 3",
      "language": "python",
      "name": "python3"
    },
    "language_info": {
      "codemirror_mode": {
        "name": "ipython",
        "version": 3
      },
      "file_extension": ".py",
      "mimetype": "text/x-python",
      "name": "python",
      "nbconvert_exporter": "python",
      "pygments_lexer": "ipython3",
      "version": "3.8.0"
    }
  },
  "nbformat": 4,
  "nbformat_minor": 0
}