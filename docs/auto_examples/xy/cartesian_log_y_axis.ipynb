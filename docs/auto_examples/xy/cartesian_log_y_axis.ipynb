{
  "cells": [
    {
      "cell_type": "code",
      "execution_count": null,
      "metadata": {
        "collapsed": false
      },
      "outputs": [],
      "source": [
        "%matplotlib inline"
      ]
    },
    {
      "cell_type": "markdown",
      "metadata": {},
      "source": [
        "\n# Cartesian view curve with logarithmic y axis\n"
      ]
    },
    {
      "cell_type": "code",
      "execution_count": null,
      "metadata": {
        "collapsed": false
      },
      "outputs": [],
      "source": [
        "# (C) Copyright 2017- ECMWF.\n#\n# This software is licensed under the terms of the Apache Licence Version 2.0\n# which can be obtained at http://www.apache.org/licenses/LICENSE-2.0.\n#\n# In applying this licence, ECMWF does not waive the privileges and immunities\n# granted to it by virtue of its status as an intergovernmental organisation\n# nor does it submit to any jurisdiction.\n#\n\nimport metview as mv\n\n# read the GRIB data into a fieldset\nfilename = \"ozone_pl.grib\"\nif mv.exist(filename):\n    g = mv.read(filename)\nelse:\n    g = mv.download_gallery_data(filename)\n\n# extract the values at a point, and the vertical levels\nlevels = mv.grib_get_double(g, \"level\")\nozone = mv.nearest_gridpoint(g, [-85, 0])\n\n# define curve\nvis_curve = mv.input_visualiser(input_x_values=ozone, input_y_values=levels)\n\n# define curve style\ngr_curve = mv.mgraph(\n    graph_type=\"curve\", graph_line_colour=\"coral\", graph_line_thickness=4\n)\n\n# define a nice title for the x axis\n# use object methods to get metadata, just to show the alternative\n# to using functions\nx_title = g[0].grib_get_string(\"name\") + \" in \" + g[0].grib_get_string(\"units\")\nx_axis = mv.maxis(axis_title_text=x_title)\n\n# define y axis title\ny_title = \"Pressure in hPa\"\ny_axis = mv.maxis(axis_title_text=y_title)\n\n# define view, setting a log y axis\nview = mv.cartesianview(\n    x_automatic=\"off\",\n    x_min=0,\n    x_max=max(ozone),\n    y_automatic=\"on\",\n    y_axis_type=\"logarithmic\",\n    horizontal_axis=x_axis,\n    vertical_axis=y_axis,\n)\n\n# define the output plot file\nmv.setoutput(mv.pdf_output(output_name=\"cartesian_log_y_axis\"))\n\n# generate plot\nmv.plot(view, vis_curve, gr_curve)"
      ]
    }
  ],
  "metadata": {
    "kernelspec": {
      "display_name": "Python 3",
      "language": "python",
      "name": "python3"
    },
    "language_info": {
      "codemirror_mode": {
        "name": "ipython",
        "version": 3
      },
      "file_extension": ".py",
      "mimetype": "text/x-python",
      "name": "python",
      "nbconvert_exporter": "python",
      "pygments_lexer": "ipython3",
      "version": "3.8.0"
    }
  },
  "nbformat": 4,
  "nbformat_minor": 0
}