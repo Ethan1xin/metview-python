{
  "cells": [
    {
      "cell_type": "code",
      "execution_count": null,
      "metadata": {
        "collapsed": false
      },
      "outputs": [],
      "source": [
        "%matplotlib inline"
      ]
    },
    {
      "cell_type": "markdown",
      "metadata": {},
      "source": [
        "\n# Graph Plot with Different Y Scales\n"
      ]
    },
    {
      "cell_type": "code",
      "execution_count": null,
      "metadata": {
        "collapsed": false
      },
      "outputs": [],
      "source": [
        "# (C) Copyright 2017- ECMWF.\n#\n# This software is licensed under the terms of the Apache Licence Version 2.0\n# which can be obtained at http://www.apache.org/licenses/LICENSE-2.0.\n#\n# In applying this licence, ECMWF does not waive the privileges and immunities\n# granted to it by virtue of its status as an intergovernmental organisation\n# nor does it submit to any jurisdiction.\n#\n\nimport metview as mv\n\n# get data\nuse_mars = False  # False or True\nif use_mars:\n    # retrieve data from MARS\n    t_and_r = mv.retrieve(\n        type=\"fc\",\n        date=20201222,\n        time=12,\n        step=[0, \"to\", 240, \"by\", 6],\n        levelist=1000,\n        param=[\"t\", \"r\"],\n        grid=\"O48\",\n    )\nelse:\n    # read data from GRIB file\n    filename = \"t_and_r_ts.grib\"\n    if mv.exist(filename):\n        t_and_r = mv.read(filename)\n    else:\n        t_and_r = mv.download_gallery_data(filename) \n   \n# filter t and r into separate fieldsets\nt = mv.read(data=t_and_r, param=\"t\")\nr = mv.read(data=t_and_r, param=\"r\")\n\n# extract arrays of values at the North Pole\nloc = [90, 0]\ntvals = mv.nearest_gridpoint(t, loc)\nrvals = mv.nearest_gridpoint(r, loc)\nttimes = mv.valid_date(t)\nrtimes = mv.valid_date(r)\n\n# construct input visualisers with these x/y components\nt_curve = mv.input_visualiser(\n    input_x_type=\"date\", input_date_x_values=ttimes, input_y_values=tvals\n)\n\nr_curve = mv.input_visualiser(\n    input_x_type=\"date\", input_date_x_values=rtimes, input_y_values=rvals\n)\n\n# set up a Cartesian view for each curve, as they will use\n# different y-axis scales\n\nhaxis = mv.maxis(\n    axis_type=\"date\",\n    axis_years_label_height=0.4,\n    axis_months_label_height=0.4,\n    axis_days_label_height=0.4,\n)\n\nt_vertical_axis = mv.maxis(\n    axis_orientation=\"vertical\",\n    axis_title_text=\"temperature\",\n    axis_title_height=0.4,\n    axis_tick_label_hight=0.4,\n)\n\nt_view = mv.cartesianview(\n    x_automatic=\"on\",\n    x_axis_type=\"date\",\n    y_automatic=\"on\",\n    vertical_axis=t_vertical_axis,\n    horizontal_axis=haxis,\n)\n\nr_vertical_axis = mv.maxis(\n    axis_orientation=\"vertical\",\n    axis_position=\"right\",\n    axis_title_text=\"relative humidity\",\n    axis_title_height=0.4,\n    axis_tick_label_hight=0.4,\n)\n\nr_view = mv.cartesianview(\n    x_automatic=\"on\",\n    x_axis_type=\"date\",\n    y_automatic=\"on\",\n    vertical_axis=r_vertical_axis,\n    horizontal_axis=haxis,\n)\n\n# set up the pages that will use these views\np1 = mv.plot_page(view=t_view)\np2 = mv.plot_page(view=r_view)\ndw = mv.plot_superpage(pages=[p1, p2])\n\n# plotting attributes\ncommon_graph = {\n    \"legend\": \"on\",\n    \"graph_line_thickness\": 2,\n    \"graph_symbol\": \"on\",\n    \"graph_symbol_colour\": \"charcoal\",\n}\n\nt_graph = mv.mgraph(common_graph, graph_line_colour=\"red\", legend_user_text=\"t\")\nr_graph = mv.mgraph(common_graph, graph_line_colour=\"olive\", legend_user_text=\"r\")\n\n# customise the legends\nlegend_common = {\n    \"legend_display_type\": \"disjoint\",\n    \"legend_text_font_size\": 0.5,\n    \"legend_box_mode\": \"positional\",\n    \"legend_box_y_position\": 18.2,\n    \"legend_box_x_length\": 5,\n    \"legend_box_y_length\": 2,\n}\nt_legend = mv.mlegend(legend_common, legend_box_x_position=10)\nr_legend = mv.mlegend(legend_common, legend_box_x_position=15)\n\n# Define the output plot file\nmv.setoutput(mv.pdf_output(output_name=\"double_axis_2\"))\n\n# Plot the data curves into the different views\nmv.plot(dw[0], t_curve, t_graph, t_legend, dw[1], r_curve, r_graph, r_legend)"
      ]
    }
  ],
  "metadata": {
    "kernelspec": {
      "display_name": "Python 3",
      "language": "python",
      "name": "python3"
    },
    "language_info": {
      "codemirror_mode": {
        "name": "ipython",
        "version": 3
      },
      "file_extension": ".py",
      "mimetype": "text/x-python",
      "name": "python",
      "nbconvert_exporter": "python",
      "pygments_lexer": "ipython3",
      "version": "3.8.0"
    }
  },
  "nbformat": 4,
  "nbformat_minor": 0
}