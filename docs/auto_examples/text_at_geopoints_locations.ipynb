{
  "cells": [
    {
      "cell_type": "code",
      "execution_count": null,
      "metadata": {
        "collapsed": false
      },
      "outputs": [],
      "source": [
        "%matplotlib inline"
      ]
    },
    {
      "cell_type": "markdown",
      "metadata": {},
      "source": [
        "\n# Plot test labels at geopoints locations\n"
      ]
    },
    {
      "cell_type": "code",
      "execution_count": null,
      "metadata": {
        "collapsed": false
      },
      "outputs": [],
      "source": [
        "# (C) Copyright 2017- ECMWF.\n#\n# This software is licensed under the terms of the Apache Licence Version 2.0\n# which can be obtained at http://www.apache.org/licenses/LICENSE-2.0.\n#\n# In applying this licence, ECMWF does not waive the privileges and immunities\n# granted to it by virtue of its status as an intergovernmental organisation\n# nor does it submit to any jurisdiction.\n#\n\n\nimport metview as mv\n\n# read geopoints containing 4 city locations\ngpt = mv.read(\"city_loc.gpt\")\n\n# define text labels\ntxt_lst = [\"London\", \"New York\", \"Rio de Janeiro\", \"Tokyo\"]\n\n# define text plotting\nsym_txt = mv.msymb(\n    legend=\"off\",\n    symbol_type=\"text\",\n    symbol_colour=\"black\",\n    symbol_text_list=txt_lst,\n    symbol_text_position=\"top\",\n    symbol_text_font_size=1,\n    symbol_text_blanking=\"on\",\n)\n\n# define location plotting\nsym_loc = mv.msymb(\n    legend=\"off\",\n    symbol_type=\"marker\",\n    symbol_colour=\"coral\",\n    symbol_height=0.4,\n    symbol_marker_index=15,\n)\n\n# define coastlines\ncoast = mv.mcoast(\n    map_coastline_colour=\"charcoal\",\n    map_coastline_thickness=2,\n    map_coastline_land_shade=\"on\",\n    map_coastline_land_shade_colour=\"grey\",\n    map_coastline_sea_shade=\"on\",\n    map_coastline_sea_shade_colour=\"RGB(0.7475,0.8504,0.9466)\",\n    map_grid=\"off\",\n    map_label=\"off\",\n    map_layer_mode=\"background\",\n)\n\n# define the output plot file\nmv.setoutput(mv.pdf_output(output_name=\"text_at_geopoints_locations\"))\n\n# generate plot\nmv.plot(coast, gpt, sym_txt, sym_loc)"
      ]
    }
  ],
  "metadata": {
    "kernelspec": {
      "display_name": "Python 3",
      "language": "python",
      "name": "python3"
    },
    "language_info": {
      "codemirror_mode": {
        "name": "ipython",
        "version": 3
      },
      "file_extension": ".py",
      "mimetype": "text/x-python",
      "name": "python",
      "nbconvert_exporter": "python",
      "pygments_lexer": "ipython3",
      "version": "3.8.0"
    }
  },
  "nbformat": 4,
  "nbformat_minor": 0
}