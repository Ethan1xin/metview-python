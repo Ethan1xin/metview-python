{
  "cells": [
    {
      "cell_type": "code",
      "execution_count": null,
      "metadata": {
        "collapsed": false
      },
      "outputs": [],
      "source": [
        "%matplotlib inline"
      ]
    },
    {
      "cell_type": "markdown",
      "metadata": {},
      "source": [
        "\n# Cross Section\n"
      ]
    },
    {
      "cell_type": "code",
      "execution_count": null,
      "metadata": {
        "collapsed": false
      },
      "outputs": [],
      "source": [
        "# (C) Copyright 2017- ECMWF.\n#\n# This software is licensed under the terms of the Apache Licence Version 2.0\n# which can be obtained at http://www.apache.org/licenses/LICENSE-2.0.\n#\n# In applying this licence, ECMWF does not waive the privileges and immunities\n# granted to it by virtue of its status as an intergovernmental organisation\n# nor does it submit to any jurisdiction.\n#\n\n\n# ------------------------------------------------------------------\n# Demonstrates how to use a Cross Section View to\n# compute and plot a vertical cross section of GRIB data\n# ------------------------------------------------------------------\n\nimport metview as mv\n\n# read the GRIB data from file\nt_fc = mv.read(\"t_fc24.grib\")\n\n# set up the view to plot the data into\ncross_section_view = mv.mxsectview(\n    bottom_level=1000.0,\n    top_level=1,\n    line=[-40.1, -105.6, 61.5, 85.1],  # lat,lon,lat,lon\n)\n\n\n# set up the contouring style\nshading = mv.mcont(\n    legend=\"on\",\n    contour=\"off\",\n    contour_level_count=12,\n    contour_label=\"off\",\n    contour_shade=\"on\",\n    contour_shade_method=\"area_fill\",\n    contour_shade_max_level_colour=\"RGB(0.72,0.059,0.059)\",\n    contour_shade_min_level_colour=\"RGB(0.99,0.98,0.98)\",\n)\n\n# set up the title, just to make the font bigger\ntitle = mv.mtext(text_font_size=0.5)\n\n# define the output plot file\nmv.setoutput(mv.pdf_output(output_name=\"cross_section_pl_data\"))\n\n# plot the data into the Cross Section view with visdefs for styling\nmv.plot(cross_section_view, t_fc, shading, title)"
      ]
    }
  ],
  "metadata": {
    "kernelspec": {
      "display_name": "Python 3",
      "language": "python",
      "name": "python3"
    },
    "language_info": {
      "codemirror_mode": {
        "name": "ipython",
        "version": 3
      },
      "file_extension": ".py",
      "mimetype": "text/x-python",
      "name": "python",
      "nbconvert_exporter": "python",
      "pygments_lexer": "ipython3",
      "version": "3.8.0"
    }
  },
  "nbformat": 4,
  "nbformat_minor": 0
}